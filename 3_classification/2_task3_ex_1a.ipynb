{
 "cells": [
  {
   "cell_type": "code",
   "execution_count": 1,
   "id": "b9446b9c9534019a",
   "metadata": {
    "ExecuteTime": {
     "end_time": "2025-05-06T15:44:04.489394Z",
     "start_time": "2025-05-06T15:44:00.935880Z"
    }
   },
   "outputs": [],
   "source": [
    "import numpy as np\n",
    "import pandas as pd\n",
    "import os\n",
    "from tqdm import tqdm as tqdm\n",
    "import matplotlib.pyplot as plt\n",
    "from torch.utils.data import Dataset"
   ]
  },
  {
   "cell_type": "code",
   "execution_count": 2,
   "id": "6c0431f14c6ff38b",
   "metadata": {
    "ExecuteTime": {
     "end_time": "2025-05-06T15:44:04.647935Z",
     "start_time": "2025-05-06T15:44:04.639899Z"
    }
   },
   "outputs": [],
   "source": [
    "# Seed for reproducibility\n",
    "SEED = 42\n",
    "np.random.seed(SEED)\n",
    "\n",
    "# Path to the .npz file\n",
    "DATASET_PATH = \"../MLPC2025_classification\"\n",
    "\n",
    "ANNOTATIONS_PATH = DATASET_PATH + \"/annotations.csv\"\n",
    "#ANNOTATIONS_TEXT_EMBEDDINGS_PATH = DATASET_PATH + \"/annotations_text_embeddings.npz\"\n",
    "\n",
    "METADATA_PATH = DATASET_PATH + \"/metadata.csv\"\n",
    "#METADATA_TITLE_EMBEDDINGS_PATH = DATASET_PATH + \"/metadata_title_embeddings.npz\"\n",
    "#METADATA_KEYWORDS_EMBEDDINGS_PATH = DATASET_PATH + \"/metadata_keywords_embeddings.npz\"\n",
    "\n",
    "AUDIO_PATHS = DATASET_PATH + \"/audio\"\n",
    "AUDIO_FEATURES_PATHS = DATASET_PATH + \"/audio_features\"\n",
    "\n",
    "LABELS_PATH = DATASET_PATH + \"/labels\""
   ]
  },
  {
   "cell_type": "code",
   "execution_count": 3,
   "id": "2eadf99a822dc0bd",
   "metadata": {
    "ExecuteTime": {
     "end_time": "2025-05-06T15:44:04.746955Z",
     "start_time": "2025-05-06T15:44:04.653045Z"
    }
   },
   "outputs": [
    {
     "data": {
      "text/plain": [
       "27552"
      ]
     },
     "execution_count": 3,
     "metadata": {},
     "output_type": "execute_result"
    }
   ],
   "source": [
    "annotations = pd.read_csv(ANNOTATIONS_PATH)\n",
    "# annotations.head()\n",
    "len(annotations)"
   ]
  },
  {
   "cell_type": "code",
   "execution_count": 4,
   "id": "97b94e60b45e3b4d",
   "metadata": {
    "ExecuteTime": {
     "end_time": "2025-05-06T15:44:04.810485Z",
     "start_time": "2025-05-06T15:44:04.793633Z"
    }
   },
   "outputs": [
    {
     "data": {
      "text/html": [
       "<div>\n",
       "<style scoped>\n",
       "    .dataframe tbody tr th:only-of-type {\n",
       "        vertical-align: middle;\n",
       "    }\n",
       "\n",
       "    .dataframe tbody tr th {\n",
       "        vertical-align: top;\n",
       "    }\n",
       "\n",
       "    .dataframe thead th {\n",
       "        text-align: right;\n",
       "    }\n",
       "</style>\n",
       "<table border=\"1\" class=\"dataframe\">\n",
       "  <thead>\n",
       "    <tr style=\"text-align: right;\">\n",
       "      <th></th>\n",
       "      <th>filename</th>\n",
       "      <th>annotator</th>\n",
       "      <th>text</th>\n",
       "      <th>onset</th>\n",
       "      <th>offset</th>\n",
       "      <th>time</th>\n",
       "      <th>original_caption</th>\n",
       "      <th>categories</th>\n",
       "      <th>original_index</th>\n",
       "    </tr>\n",
       "  </thead>\n",
       "  <tbody>\n",
       "    <tr>\n",
       "      <th>0</th>\n",
       "      <td>117126.mp3</td>\n",
       "      <td>1145579747015607221221744067969991550764671773...</td>\n",
       "      <td>An alarm is ringing loudly and repeatedly nearby.</td>\n",
       "      <td>0.000000</td>\n",
       "      <td>10.503064</td>\n",
       "      <td>345.033</td>\n",
       "      <td>Raw loud alarm sound repeatedly ringing nearby</td>\n",
       "      <td>['Alarm']</td>\n",
       "      <td>0</td>\n",
       "    </tr>\n",
       "    <tr>\n",
       "      <th>1</th>\n",
       "      <td>117126.mp3</td>\n",
       "      <td>1145579747015607221221744067969991550764671773...</td>\n",
       "      <td>An alarm is ringing repeatedly nearby.</td>\n",
       "      <td>12.514616</td>\n",
       "      <td>23.048000</td>\n",
       "      <td>345.033</td>\n",
       "      <td>Clean alarm sound repeatedly ringing nearby</td>\n",
       "      <td>['Alarm']</td>\n",
       "      <td>1</td>\n",
       "    </tr>\n",
       "    <tr>\n",
       "      <th>2</th>\n",
       "      <td>118234.mp3</td>\n",
       "      <td>5022633589939139634134314703519782680423201448...</td>\n",
       "      <td>An alarm clock is beeping continuously.</td>\n",
       "      <td>0.000000</td>\n",
       "      <td>13.414880</td>\n",
       "      <td>919.016</td>\n",
       "      <td>Alarm clock beeping continuesly</td>\n",
       "      <td>['Alarm', 'Beep/Bleep']</td>\n",
       "      <td>2</td>\n",
       "    </tr>\n",
       "    <tr>\n",
       "      <th>3</th>\n",
       "      <td>118234.mp3</td>\n",
       "      <td>5022633589939139634134314703519782680423201448...</td>\n",
       "      <td>An alarm clock is beeping continuously.</td>\n",
       "      <td>15.134252</td>\n",
       "      <td>28.492000</td>\n",
       "      <td>919.016</td>\n",
       "      <td>Alarm clock beeping continuesly</td>\n",
       "      <td>['Alarm', 'Beep/Bleep']</td>\n",
       "      <td>3</td>\n",
       "    </tr>\n",
       "    <tr>\n",
       "      <th>4</th>\n",
       "      <td>119173.mp3</td>\n",
       "      <td>8105077500224920444298835829881210427871190692...</td>\n",
       "      <td>A car alarm sounds loudly in a steady pattern.</td>\n",
       "      <td>0.000000</td>\n",
       "      <td>20.065604</td>\n",
       "      <td>2162.620</td>\n",
       "      <td>a car alarm sounds loudly in a steady pattern ...</td>\n",
       "      <td>['Alarm', 'Car']</td>\n",
       "      <td>4</td>\n",
       "    </tr>\n",
       "  </tbody>\n",
       "</table>\n",
       "</div>"
      ],
      "text/plain": [
       "     filename                                          annotator  \\\n",
       "0  117126.mp3  1145579747015607221221744067969991550764671773...   \n",
       "1  117126.mp3  1145579747015607221221744067969991550764671773...   \n",
       "2  118234.mp3  5022633589939139634134314703519782680423201448...   \n",
       "3  118234.mp3  5022633589939139634134314703519782680423201448...   \n",
       "4  119173.mp3  8105077500224920444298835829881210427871190692...   \n",
       "\n",
       "                                                text      onset     offset  \\\n",
       "0  An alarm is ringing loudly and repeatedly nearby.   0.000000  10.503064   \n",
       "1             An alarm is ringing repeatedly nearby.  12.514616  23.048000   \n",
       "2            An alarm clock is beeping continuously.   0.000000  13.414880   \n",
       "3            An alarm clock is beeping continuously.  15.134252  28.492000   \n",
       "4     A car alarm sounds loudly in a steady pattern.   0.000000  20.065604   \n",
       "\n",
       "       time                                   original_caption  \\\n",
       "0   345.033     Raw loud alarm sound repeatedly ringing nearby   \n",
       "1   345.033        Clean alarm sound repeatedly ringing nearby   \n",
       "2   919.016                    Alarm clock beeping continuesly   \n",
       "3   919.016                    Alarm clock beeping continuesly   \n",
       "4  2162.620  a car alarm sounds loudly in a steady pattern ...   \n",
       "\n",
       "                categories  original_index  \n",
       "0                ['Alarm']               0  \n",
       "1                ['Alarm']               1  \n",
       "2  ['Alarm', 'Beep/Bleep']               2  \n",
       "3  ['Alarm', 'Beep/Bleep']               3  \n",
       "4         ['Alarm', 'Car']               4  "
      ]
     },
     "execution_count": 4,
     "metadata": {},
     "output_type": "execute_result"
    }
   ],
   "source": [
    "# Remove unnecessary columns for this task\n",
    "annotations = annotations.drop(columns=['task_id'])\n",
    "annotations['original_index'] = annotations.index\n",
    "annotations.head()"
   ]
  },
  {
   "cell_type": "code",
   "execution_count": 5,
   "id": "c0fe353e",
   "metadata": {},
   "outputs": [
    {
     "data": {
      "text/plain": [
       "27552"
      ]
     },
     "execution_count": 5,
     "metadata": {},
     "output_type": "execute_result"
    }
   ],
   "source": [
    "len(annotations)\n"
   ]
  },
  {
   "cell_type": "code",
   "execution_count": 5,
   "id": "78e9137d94de8525",
   "metadata": {
    "ExecuteTime": {
     "end_time": "2025-05-06T15:44:04.940705Z",
     "start_time": "2025-05-06T15:44:04.849100Z"
    }
   },
   "outputs": [
    {
     "data": {
      "text/plain": [
       "8230"
      ]
     },
     "execution_count": 5,
     "metadata": {},
     "output_type": "execute_result"
    }
   ],
   "source": [
    "metadata = pd.read_csv(METADATA_PATH)\n",
    "len(metadata)\n",
    "# metadata.head()"
   ]
  },
  {
   "cell_type": "code",
   "execution_count": 6,
   "id": "32766047cbbd396e",
   "metadata": {
    "ExecuteTime": {
     "end_time": "2025-05-06T15:44:05.185856Z",
     "start_time": "2025-05-06T15:44:05.176147Z"
    }
   },
   "outputs": [],
   "source": [
    "# Remove unnecessary columns for this task\n",
    "metadata = metadata.drop(columns=['freesound_id', 'sound_link', 'manufacturer', 'license', 'num_downloads', 'geotag', 'start_time_s', 'end_time_s'])\n",
    "# metadata.head()"
   ]
  },
  {
   "cell_type": "code",
   "execution_count": 7,
   "id": "4b23b53f7c82027a",
   "metadata": {
    "ExecuteTime": {
     "end_time": "2025-05-06T15:44:28.262449Z",
     "start_time": "2025-05-06T15:44:05.244497Z"
    }
   },
   "outputs": [
    {
     "name": "stderr",
     "output_type": "stream",
     "text": [
      "100%|██████████| 8230/8230 [01:18<00:00, 105.40it/s]\n"
     ]
    },
    {
     "data": {
      "text/plain": [
       "8230"
      ]
     },
     "execution_count": 7,
     "metadata": {},
     "output_type": "execute_result"
    }
   ],
   "source": [
    "# Load audio features\n",
    "all_audio_file_basenames = [os.path.splitext(os.path.basename(name))[0] for name in os.listdir(AUDIO_PATHS) if name.endswith('.mp3')]\n",
    "all_audio_file_features = {}\n",
    "for audio_file_basename in tqdm(all_audio_file_basenames):\n",
    "    features_path = os.path.join(AUDIO_FEATURES_PATHS, audio_file_basename + '.npz')\n",
    "    features = dict(np.load(features_path))\n",
    "    all_audio_file_features[audio_file_basename] = features\n",
    "\n",
    "len(all_audio_file_basenames)"
   ]
  },
  {
   "cell_type": "code",
   "execution_count": 8,
   "id": "bcd8aaddb0c77e0f",
   "metadata": {
    "ExecuteTime": {
     "end_time": "2025-05-06T15:45:27.959713Z",
     "start_time": "2025-05-06T15:44:28.445117Z"
    }
   },
   "outputs": [
    {
     "name": "stderr",
     "output_type": "stream",
     "text": [
      "100%|██████████| 8230/8230 [02:27<00:00, 55.95it/s]\n"
     ]
    },
    {
     "data": {
      "text/plain": [
       "8230"
      ]
     },
     "execution_count": 8,
     "metadata": {},
     "output_type": "execute_result"
    }
   ],
   "source": [
    "# Load audio labels\n",
    "all_audio_file_basenames = [os.path.splitext(os.path.basename(name))[0] for name in os.listdir(AUDIO_PATHS) if name.endswith('.mp3')]\n",
    "all_audio_file_labels = {}\n",
    "for audio_file_basename in tqdm(all_audio_file_basenames):\n",
    "    labels_path = os.path.join(LABELS_PATH, audio_file_basename + '_labels.npz')\n",
    "    labels = dict(np.load(labels_path))\n",
    "    all_audio_file_labels[audio_file_basename] = labels\n",
    "len(all_audio_file_labels)"
   ]
  },
  {
   "cell_type": "code",
   "execution_count": null,
   "id": "c59b3df2",
   "metadata": {},
   "outputs": [],
   "source": []
  },
  {
   "cell_type": "code",
   "execution_count": 9,
   "id": "f8a952e8d724f2df",
   "metadata": {
    "ExecuteTime": {
     "end_time": "2025-05-06T15:45:28.008544Z",
     "start_time": "2025-05-06T15:45:28.000957Z"
    }
   },
   "outputs": [
    {
     "name": "stdout",
     "output_type": "stream",
     "text": [
      "All audio features: n=13\n",
      "\t['embeddings', 'melspectrogram', 'mfcc', 'mfcc_delta', 'mfcc_delta2', 'flatness', 'centroid', 'flux', 'energy', 'power', 'bandwidth', 'contrast', 'zerocrossingrate']\n",
      "\n",
      "All audio labels: n=58\n",
      "\t['Airplane', 'Alarm', 'Beep/Bleep', 'Bell', 'Bicycle', 'Bird Chirp', 'Bus', 'Car', 'Cat Meow', 'Chainsaw', 'Clapping', 'Cough', 'Cow Moo', 'Cowbell', 'Crying', 'Dog Bark', 'Doorbell', 'Drip', 'Drums', 'Fire', 'Footsteps', 'Guitar', 'Hammer', 'Helicopter', 'Hiccup', 'Horn Honk', 'Horse Neigh', 'Insect Buzz', 'Jackhammer', 'Laughter', 'Lawn Mower', 'Motorcycle', 'Piano', 'Pig Oink', 'Power Drill', 'Power Saw', 'Rain', 'Rooster Crow', 'Saxophone', 'Sewing Machine', 'Sheep/Goat Bleat', 'Ship/Boat', 'Shout', 'Singing', 'Siren', 'Sneeze', 'Snoring', 'Speech', 'Stream/River', 'Thunder', 'Train', 'Truck', 'Trumpet', 'Vacuum Cleaner', 'Violin', 'Washing Machine', 'Waves', 'Wind']\n"
     ]
    }
   ],
   "source": [
    "example_audio_file = all_audio_file_basenames[0]\n",
    "example_audio_features = all_audio_file_features[example_audio_file]\n",
    "example_audio_labels = all_audio_file_labels[example_audio_file]\n",
    "\n",
    "all_audio_feature_names = list(example_audio_features.keys())\n",
    "all_audio_label_names = list(example_audio_labels.keys())\n",
    "\n",
    "print(f'All audio features: n={len(all_audio_feature_names)}')\n",
    "print(f'\\t{all_audio_feature_names}')\n",
    "\n",
    "print(f'\\nAll audio labels: n={len(all_audio_label_names)}')\n",
    "print(f'\\t{all_audio_label_names}')"
   ]
  },
  {
   "cell_type": "code",
   "execution_count": 10,
   "id": "973b7373f6d7960c",
   "metadata": {
    "ExecuteTime": {
     "end_time": "2025-05-06T15:45:30.083210Z",
     "start_time": "2025-05-06T15:45:28.049836Z"
    }
   },
   "outputs": [
    {
     "data": {
      "image/png": "[encoded data removed]",
      "text/plain": [
       "<Figure size 1200x600 with 1 Axes>"
      ]
     },
     "metadata": {},
     "output_type": "display_data"
    }
   ],
   "source": [
    "# Check label distribution\n",
    "files_per_label = {label_name: 0 for label_name in all_audio_label_names}\n",
    "for audio_file_basename in all_audio_file_basenames:\n",
    "    for label_name, label_values in all_audio_file_labels[audio_file_basename].items():\n",
    "        if np.sum(label_values) > 0:\n",
    "            files_per_label[label_name] += 1\n",
    "\n",
    "label_counts = sorted(list(files_per_label.items()), key=lambda x: x[1], reverse=True)\n",
    "\n",
    "labels = [label for label, count in label_counts]\n",
    "counts = [count for label, count in label_counts]\n",
    "\n",
    "plt.figure(figsize=(12, 6))\n",
    "plt.bar(labels, counts, color='skyblue')\n",
    "plt.xlabel('Labels')\n",
    "plt.ylabel('Number of Files')\n",
    "plt.title('Label Distribution over Files')\n",
    "plt.xticks(rotation=90)\n",
    "plt.tight_layout()\n",
    "plt.show()"
   ]
  },
  {
   "cell_type": "code",
   "execution_count": 11,
   "id": "626454c6",
   "metadata": {},
   "outputs": [
    {
     "name": "stdout",
     "output_type": "stream",
     "text": [
      "\n",
      "All audio labels: n=58\n",
      "\t['Airplane', 'Alarm', 'Beep/Bleep', 'Bell', 'Bicycle', 'Bird Chirp', 'Bus', 'Car', 'Cat Meow', 'Chainsaw', 'Clapping', 'Cough', 'Cow Moo', 'Cowbell', 'Crying', 'Dog Bark', 'Doorbell', 'Drip', 'Drums', 'Fire', 'Footsteps', 'Guitar', 'Hammer', 'Helicopter', 'Hiccup', 'Horn Honk', 'Horse Neigh', 'Insect Buzz', 'Jackhammer', 'Laughter', 'Lawn Mower', 'Motorcycle', 'Piano', 'Pig Oink', 'Power Drill', 'Power Saw', 'Rain', 'Rooster Crow', 'Saxophone', 'Sewing Machine', 'Sheep/Goat Bleat', 'Ship/Boat', 'Shout', 'Singing', 'Siren', 'Sneeze', 'Snoring', 'Speech', 'Stream/River', 'Thunder', 'Train', 'Truck', 'Trumpet', 'Vacuum Cleaner', 'Violin', 'Washing Machine', 'Waves', 'Wind']\n"
     ]
    }
   ],
   "source": [
    "print(f'\\nAll audio labels: n={len(all_audio_label_names)}')\n",
    "print(f'\\t{all_audio_label_names}')"
   ]
  },
  {
   "cell_type": "code",
   "execution_count": null,
   "id": "43ed5e23",
   "metadata": {},
   "outputs": [],
   "source": []
  },
  {
   "cell_type": "code",
   "execution_count": 16,
   "id": "f7599b67",
   "metadata": {},
   "outputs": [
    {
     "name": "stdout",
     "output_type": "stream",
     "text": [
      "27552\n",
      "Alarm :\n",
      "[('alarm', 359), ('beeps', 110), ('clock', 78), ('loudly', 62), ('repeatedly', 54), ('sounds', 52), ('high-pitched', 51), ('short', 44), ('fire', 38), ('metallic', 37), ('loud', 37), ('rings', 36)]\n",
      "\n",
      "\n",
      "Beep/Bleep :\n",
      "[('beep', 251), ('beeps', 231), ('beeping', 193), ('sound', 167), ('electronic', 143), ('high-pitched', 128), ('alarm', 123), ('sounds', 105), ('short', 89), ('repeatedly', 74), ('tone', 65), ('loudly', 54)]\n",
      "\n",
      "\n",
      "Car :\n",
      "[('car', 741), ('engine', 333), ('on', 197), ('cars', 195), ('driving', 179), ('distance', 143), ('traffic', 142), ('sound', 126), ('by', 122), ('passes', 120), ('noise', 112), ('sounds', 108)]\n",
      "\n",
      "\n",
      "Speech :\n",
      "[('speaking', 1166), ('people', 733), ('man', 608), ('talking', 602), ('background', 457), ('voice', 328), ('woman', 319), ('speaks', 249), ('distance', 237), ('loudly', 201), ('muffled', 188), ('someone', 157)]\n",
      "\n",
      "\n",
      "Hammer :\n",
      "[('hammer', 259), ('hammering', 147), ('metallic', 98), ('strikes', 87), ('construction', 85), ('nail', 76), ('wood', 71), ('repeatedly', 66), ('sounds', 65), ('surface', 65), ('object', 61), ('on', 60)]\n",
      "\n",
      "\n",
      "Siren :\n",
      "[('siren', 351), ('sounds', 118), ('police', 80), ('ambulance', 61), ('loud', 56), ('distance', 50), ('loudly', 45), ('away', 43), ('fades', 42), ('emergency', 41), ('wails', 40), ('sirens', 39)]\n",
      "\n",
      "\n",
      "Bell :\n",
      "[('bell', 655), ('rings', 442), ('ringing', 231), ('church', 157), ('metallic', 145), ('loudly', 116), ('bells', 112), ('repeatedly', 93), ('sound', 85), ('tone', 78), ('high-pitched', 68), ('chime', 66)]\n",
      "\n",
      "\n",
      "Shout :\n",
      "[('loudly', 208), ('shouting', 187), ('man', 166), ('people', 130), ('screams', 130), ('yelling', 82), ('woman', 81), ('distance', 73), ('person', 66), ('shouts', 58), ('child', 57), ('cheering', 51)]\n",
      "\n",
      "\n",
      "Train :\n",
      "[('train', 534), ('horn', 113), ('sounds', 109), ('passes', 80), ('distance', 76), ('sound', 63), ('by', 49), ('loudly', 47), ('passing', 46), ('wheels', 43), ('moving', 39), ('loud', 38)]\n",
      "\n",
      "\n",
      "Drip :\n",
      "[('water', 459), ('dripping', 181), ('drop', 113), ('into', 103), ('falls', 97), ('droplets', 83), ('surface', 78), ('falling', 72), ('faucet', 58), ('sink', 58), ('drips', 55), ('sound', 53)]\n",
      "\n",
      "\n",
      "Insect Buzz :\n",
      "[('buzzing', 368), ('insect', 262), ('flying', 188), ('buzzes', 176), ('sound', 142), ('fly', 130), ('bee', 123), ('loudly', 121), ('crickets', 88), ('chirping', 84), ('nearby', 81), ('continuously', 60)]\n",
      "\n",
      "\n",
      "Horn Honk :\n",
      "[('horn', 510), ('car', 309), ('honks', 274), ('sounds', 249), ('loudly', 143), ('distance', 134), ('train', 131), ('repeatedly', 63), ('loud', 62), ('honking', 57), ('vehicle', 55), ('traffic', 46)]\n",
      "\n",
      "\n",
      "Bird Chirp :\n",
      "[('bird', 1821), ('chirps', 1015), ('birds', 905), ('distance', 576), ('chirping', 567), ('loudly', 356), ('background', 331), ('singing', 296), ('outdoors', 291), ('repeatedly', 282), ('chirp', 254), ('quietly', 188)]\n",
      "\n",
      "\n",
      "Rain :\n",
      "[('rain', 577), ('falling', 274), ('heavy', 174), ('on', 140), ('raindrops', 130), ('surface', 87), ('background', 79), ('sounds', 74), ('falls', 64), ('rainfall', 62), ('thunder', 54), ('steadily', 53)]\n",
      "\n",
      "\n",
      "Thunder :\n",
      "[('thunder', 371), ('rumbles', 147), ('distance', 126), ('loud', 60), ('distant', 54), ('thunderstorm', 49), ('rumbling', 49), ('rain', 48), ('fades', 43), ('background', 39), ('during', 38), ('sounds', 37)]\n",
      "\n",
      "\n",
      "Footsteps :\n",
      "[('footsteps', 562), ('on', 448), ('walking', 103), ('surface', 92), ('floor', 86), ('person', 80), ('wooden', 72), ('soft', 69), ('snow', 68), ('stairs', 68), ('someone', 62), ('running', 57)]\n",
      "\n",
      "\n",
      "Cough :\n",
      "[('coughs', 131), ('person', 66), ('man', 54), ('coughing', 45), ('repeatedly', 30), ('indoors', 29), ('loudly', 29), ('cough', 25), ('throat', 24), ('woman', 17), ('clears', 15), ('loud', 14)]\n",
      "\n",
      "\n",
      "Drums :\n",
      "[('drum', 365), ('playing', 158), ('drums', 145), ('rhythmic', 125), ('sound', 124), ('hit', 75), ('snare', 69), ('sounds', 62), ('played', 52), ('beat', 46), ('percussion', 46), ('wooden', 45)]\n",
      "\n",
      "\n",
      "Dog Bark :\n",
      "[('dog', 1293), ('barks', 1061), ('loudly', 263), ('repeatedly', 257), ('distance', 234), ('barking', 129), ('dogs', 116), ('growls', 103), ('small', 85), ('once', 79), ('outdoors', 73), ('quietly', 72)]\n",
      "\n",
      "\n",
      "Wind :\n",
      "[('wind', 946), ('blowing', 326), ('strong', 132), ('blows', 124), ('sound', 110), ('background', 103), ('sounds', 95), ('noise', 92), ('outdoors', 80), ('air', 70), ('soft', 65), ('loud', 62)]\n",
      "\n",
      "\n",
      "Singing :\n",
      "[('singing', 452), ('birds', 163), ('bird', 131), ('distance', 70), ('sings', 63), ('choir', 60), ('woman', 59), ('background', 58), ('loudly', 55), ('song', 54), ('people', 48), ('man', 43)]\n",
      "\n",
      "\n",
      "Guitar :\n",
      "[('guitar', 659), ('electric', 214), ('plays', 174), ('playing', 138), ('single', 115), ('played', 112), ('note', 100), ('string', 90), ('sound', 74), ('rhythmic', 64), ('on', 60), ('acoustic', 56)]\n",
      "\n",
      "\n",
      "Bus :\n",
      "[('bus', 167), ('engine', 90), ('traffic', 69), ('sounds', 45), ('noise', 45), ('vehicles', 42), ('vehicle', 33), ('on', 33), ('sound', 27), ('by', 27), ('driving', 26), ('distance', 21)]\n",
      "\n",
      "\n",
      "Vacuum Cleaner :\n",
      "[('vacuum', 198), ('cleaner', 173), ('running', 45), ('sound', 37), ('loudly', 22), ('off', 22), ('suction', 21), ('loud', 19), ('steady', 19), ('noise', 18), ('runs', 17), ('hums', 17)]\n",
      "\n",
      "\n",
      "Motorcycle :\n",
      "[('engine', 274), ('motorcycle', 157), ('motorbike', 97), ('traffic', 71), ('noise', 50), ('sound', 47), ('revs', 46), ('away', 45), ('distance', 44), ('sounds', 43), ('vehicles', 43), ('passes', 42)]\n",
      "\n",
      "\n",
      "Truck :\n",
      "[('engine', 200), ('truck', 187), ('traffic', 88), ('vehicle', 72), ('sounds', 60), ('vehicles', 55), ('noise', 53), ('on', 50), ('heavy', 49), ('by', 47), ('sound', 46), ('loud', 46)]\n",
      "\n",
      "\n",
      "Doorbell :\n",
      "[('doorbell', 87), ('rings', 49), ('ringing', 30), ('repeatedly', 13), ('fades', 11), ('loudly', 10), ('sound', 9), ('loud', 8), ('old-fashioned', 8), ('indoors', 7), ('metallic', 7), ('thumping', 7)]\n",
      "\n",
      "\n",
      "Laughter :\n",
      "[('laughs', 234), ('laughing', 180), ('loudly', 136), ('man', 136), ('people', 117), ('woman', 110), ('laughter', 64), ('person', 53), ('laugh', 44), ('repeatedly', 43), ('giggles', 42), ('children', 33)]\n",
      "\n",
      "\n",
      "Saxophone :\n",
      "[('saxophone', 143), ('plays', 97), ('playing', 43), ('instrument', 30), ('melody', 30), ('string', 22), ('played', 22), ('jazz', 20), ('note', 16), ('sound', 14), ('loud', 14), ('continuously', 11)]\n",
      "\n",
      "\n",
      "Fire :\n",
      "[('fire', 228), ('crackling', 163), ('burning', 88), ('wood', 63), ('crackles', 61), ('fireplace', 47), ('sounds', 43), ('burns', 38), ('sound', 35), ('loud', 31), ('nearby', 28), ('popping', 25)]\n",
      "\n",
      "\n",
      "Bicycle :\n",
      "[('bicycle', 188), ('bell', 83), ('bike', 74), ('rings', 72), ('loudly', 49), ('chain', 41), ('sound', 40), ('sounds', 26), ('metallic', 21), ('twice', 20), ('clicking', 19), ('noise', 19)]\n",
      "\n",
      "\n",
      "Clapping :\n",
      "[('clapping', 249), ('people', 135), ('claps', 78), ('crowd', 75), ('sounds', 61), ('loudly', 53), ('clap', 52), ('applause', 52), ('person', 48), ('hands', 47), ('applauding', 43), ('indoors', 39)]\n",
      "\n",
      "\n",
      "Horse Neigh :\n",
      "[('horse', 65), ('neighs', 52), ('repeatedly', 15), ('on', 11), ('sound', 11), ('sharp', 11), ('loudly', 10), ('horses', 10), ('strong', 10), ('calls', 10), ('sharply', 8), ('rhythmic', 6)]\n",
      "\n",
      "\n",
      "Rooster Crow :\n",
      "[('rooster', 120), ('crows', 114), ('loudly', 53), ('distance', 45), ('crowing', 18), ('crow', 11), ('roosters', 11), ('outdoors', 8), ('background', 7), ('multiple', 5), ('morning', 5), ('quietly', 5)]\n",
      "\n",
      "\n",
      "Trumpet :\n",
      "[('trumpet', 100), ('playing', 56), ('plays', 51), ('instrument', 28), ('sound', 22), ('played', 21), ('string', 19), ('melody', 19), ('note', 18), ('loud', 17), ('rhythmic', 16), ('music', 16)]\n",
      "\n",
      "\n",
      "Waves :\n",
      "[('waves', 476), ('water', 167), ('shore', 156), ('ocean', 143), ('crashing', 135), ('beach', 127), ('on', 113), ('wave', 105), ('sound', 97), ('onto', 93), ('against', 79), ('sea', 78)]\n",
      "\n",
      "\n",
      "Airplane :\n",
      "[('airplane', 187), ('engine', 114), ('jet', 87), ('sound', 81), ('flies', 63), ('flying', 61), ('gradually', 60), ('noise', 59), ('overhead', 52), ('aircraft', 49), ('plane', 47), ('off', 46)]\n",
      "\n",
      "\n",
      "Helicopter :\n",
      "[('helicopter', 133), ('flies', 42), ('sound', 39), ('distance', 31), ('overhead', 27), ('flying', 25), ('away', 21), ('blades', 20), ('loudly', 18), ('rotor', 17), ('gradually', 14), ('engine', 13)]\n",
      "\n",
      "\n",
      "Ship/Boat :\n",
      "[('engine', 95), ('boat', 75), ('ship', 61), ('horn', 42), ('sounds', 41), ('water', 31), ('ferry', 27), ('sound', 23), ('running', 22), ('loudly', 21), ('loud', 21), ('deep', 20)]\n",
      "\n",
      "\n",
      "Stream/River :\n",
      "[('water', 377), ('flowing', 171), ('stream', 128), ('river', 127), ('flows', 118), ('loudly', 67), ('sound', 58), ('continuous', 49), ('loud', 43), ('sounds', 39), ('continuously', 39), ('steadily', 39)]\n",
      "\n",
      "\n",
      "Lawn Mower :\n",
      "[('mower', 49), ('lawn', 37), ('lawnmower', 35), ('outdoors', 25), ('engine', 22), ('grass', 20), ('running', 18), ('loud', 17), ('being', 17), ('loudly', 16), ('sound', 14), ('motor', 12)]\n",
      "\n",
      "\n",
      "Cat Meow :\n",
      "[('cat', 490), ('meows', 321), ('meowing', 86), ('softly', 51), ('loudly', 47), ('indoors', 33), ('high-pitched', 25), ('kitten', 25), ('quiet', 21), ('meow', 20), ('yowls', 20), ('repeatedly', 19)]\n",
      "\n",
      "\n",
      "Piano :\n",
      "[('piano', 439), ('plays', 140), ('playing', 107), ('note', 96), ('played', 85), ('fades', 76), ('single', 63), ('music', 54), ('away', 54), ('gradually', 53), ('melody', 49), ('notes', 45)]\n",
      "\n",
      "\n",
      "Violin :\n",
      "[('violin', 101), ('plays', 68), ('string', 61), ('instrument', 55), ('playing', 41), ('played', 34), ('sound', 33), ('on', 29), ('notes', 21), ('orchestra', 19), ('music', 18), ('instruments', 16)]\n",
      "\n",
      "\n",
      "Cow Moo :\n",
      "[('cow', 124), ('moos', 88), ('mooing', 64), ('cows', 53), ('loudly', 32), ('distance', 28), ('moo', 18), ('background', 13), ('nearby', 10), ('birds', 9), ('while', 7), ('bulls', 7)]\n",
      "\n",
      "\n",
      "Sheep/Goat Bleat :\n",
      "[('sheep', 299), ('bleats', 184), ('loudly', 94), ('bleating', 93), ('goat', 70), ('distance', 51), ('sound', 38), ('bleat', 37), ('baaing', 36), ('repeatedly', 31), ('goats', 24), ('multiple', 24)]\n",
      "\n",
      "\n",
      "Crying :\n",
      "[('baby', 233), ('crying', 201), ('loudly', 138), ('cries', 135), ('woman', 99), ('sobbing', 41), ('child', 36), ('screams', 31), ('sobs', 28), ('repeatedly', 27), ('high-pitched', 26), ('sound', 21)]\n",
      "\n",
      "\n",
      "Snoring :\n",
      "[('snoring', 371), ('loudly', 116), ('snores', 86), ('someone', 75), ('man', 67), ('indoors', 55), ('person', 54), ('while', 49), ('gradually', 48), ('sleeping', 40), ('rhythmic', 25), ('dog', 23)]\n",
      "\n",
      "\n",
      "Power Drill :\n",
      "[('drill', 303), ('drilling', 120), ('operating', 83), ('sounds', 81), ('sound', 78), ('loud', 72), ('construction', 65), ('electric', 48), ('on', 36), ('high-pitched', 32), ('machine', 30), ('then', 28)]\n",
      "\n",
      "\n",
      "Cowbell :\n",
      "[('cowbell', 65), ('cowbells', 44), ('ringing', 31), ('rings', 30), ('repeatedly', 15), ('shaken', 15), ('distance', 13), ('ring', 12), ('gently', 9), ('rhythmically', 9), ('outdoors', 8), ('occasionally', 8)]\n",
      "\n",
      "\n",
      "Pig Oink :\n",
      "[('pig', 127), ('grunts', 72), ('loudly', 27), ('snorts', 23), ('once', 15), ('sounds', 14), ('softly', 11), ('repeatedly', 11), ('twice', 9), ('oinks', 9), ('pigs', 9), ('continuously', 7)]\n",
      "\n",
      "\n",
      "Chainsaw :\n",
      "[('chainsaw', 232), ('running', 48), ('loudly', 39), ('sound', 38), ('cutting', 31), ('wood', 30), ('runs', 26), ('repeatedly', 25), ('engine', 24), ('revving', 22), ('down', 22), ('continuously', 20)]\n",
      "\n",
      "\n",
      "Washing Machine :\n",
      "[('washing', 176), ('machine', 176), ('sound', 32), ('water', 23), ('loud', 21), ('rhythmic', 20), ('producing', 19), ('running', 19), ('nearby', 19), ('mechanical', 18), ('spins', 18), ('spinning', 17)]\n",
      "\n",
      "\n",
      "Power Saw :\n",
      "[('saw', 138), ('cutting', 72), ('circular', 43), ('construction', 42), ('sound', 40), ('wood', 37), ('through', 35), ('sounds', 31), ('running', 26), ('sawing', 23), ('loud', 23), ('table', 23)]\n",
      "\n",
      "\n",
      "Sneeze :\n",
      "[('sneezes', 35), ('woman', 11), ('man', 9), ('loudly', 9), ('person', 8), ('indoors', 6), ('inhales', 4), ('quickly', 4), ('briefly', 4), ('sneeze', 3), ('distance', 3), ('while', 2)]\n",
      "\n",
      "\n",
      "Hiccup :\n",
      "[('hiccups', 36), ('baby', 19), ('high-pitched', 17), ('sound', 13), ('soft', 12), ('six-month-old', 10), ('attempting', 10), ('to', 10), ('speak', 10), ('male', 10), ('person', 9), ('hiccup', 8)]\n",
      "\n",
      "\n",
      "Jackhammer :\n",
      "[('jackhammer', 121), ('construction', 67), ('loud', 46), ('sound', 45), ('sounds', 26), ('noise', 21), ('site', 21), ('rhythmic', 20), ('operating', 19), ('at', 19), ('repetitive', 17), ('produces', 16)]\n",
      "\n",
      "\n",
      "Sewing Machine :\n",
      "[('machine', 78), ('sewing', 78), ('mechanical', 20), ('repetitive', 16), ('sounds', 16), ('sound', 14), ('whirring', 14), ('isolated', 14), ('similar', 14), ('to', 14), ('running', 11), ('quickly', 11)]\n",
      "\n",
      "\n"
     ]
    }
   ],
   "source": [
    "from collections import Counter\n",
    "\n",
    "target_labels =  ['Airplane', 'Alarm', 'Beep/Bleep', 'Bell', 'Bicycle', 'Bird Chirp', 'Bus', 'Car', 'Cat Meow', 'Chainsaw', 'Clapping', 'Cough', 'Cow Moo', 'Cowbell', 'Crying', 'Dog Bark', 'Doorbell', 'Drip', 'Drums', 'Fire', 'Footsteps', 'Guitar', 'Hammer', 'Helicopter', 'Hiccup', 'Horn Honk', 'Horse Neigh', 'Insect Buzz', 'Jackhammer', 'Laughter', 'Lawn Mower', 'Motorcycle', 'Piano', 'Pig Oink', 'Power Drill', 'Power Saw', 'Rain', 'Rooster Crow', 'Saxophone', 'Sewing Machine', 'Sheep/Goat Bleat', 'Ship/Boat', 'Shout', 'Singing', 'Siren', 'Sneeze', 'Snoring', 'Speech', 'Stream/River', 'Thunder', 'Train', 'Truck', 'Trumpet', 'Vacuum Cleaner', 'Violin', 'Washing Machine', 'Waves', 'Wind']\n",
    "excluded_words = {\"in\", \"of\", \"the\", \"a\", \"an\", \"from\", \"and\", \"is\", \"with\", \"as\", \"by\", \"is\", 'are'}\n",
    "n_displayed = 12\n",
    "\n",
    "\n",
    "counters = {}\n",
    "i = 0\n",
    "\n",
    "for idx, row in annotations.iterrows():\n",
    "    i+=1\n",
    "    label = row[\"categories\"]\n",
    "\n",
    "    words = row[\"text\"].lower().split()\n",
    "\n",
    "    filtered_words = [w.strip(\",.\") for w in words if w not in excluded_words]\n",
    "\n",
    "    labels = label.strip(\"[]\").replace(\"'\",\"\").split(\", \")\n",
    "\n",
    "    for l in labels:\n",
    "        if not l in counters:\n",
    "            counters[l] = Counter(filtered_words)\n",
    "        else:\n",
    "            counters[l].update(filtered_words)\n",
    "print(i)\n",
    "for c in counters:\n",
    "    print(c,':')\n",
    "    print(counters[c].most_common(n_displayed))\n",
    "    print('\\n')"
   ]
  },
  {
   "cell_type": "code",
   "execution_count": null,
   "id": "2f011d99",
   "metadata": {},
   "outputs": [],
   "source": []
  },
  {
   "cell_type": "code",
   "execution_count": null,
   "id": "6e240d22",
   "metadata": {},
   "outputs": [],
   "source": []
  },
  {
   "cell_type": "code",
   "execution_count": null,
   "id": "006f55fe",
   "metadata": {},
   "outputs": [],
   "source": []
  }
 ],
 "metadata": {
  "kernelspec": {
   "display_name": "Python 3",
   "language": "python",
   "name": "python3"
  },
  "language_info": {
   "codemirror_mode": {
    "name": "ipython",
    "version": 3
   },
   "file_extension": ".py",
   "mimetype": "text/x-python",
   "name": "python",
   "nbconvert_exporter": "python",
   "pygments_lexer": "ipython3",
   "version": "3.12.4"
  }
 },
 "nbformat": 4,
 "nbformat_minor": 5
}
