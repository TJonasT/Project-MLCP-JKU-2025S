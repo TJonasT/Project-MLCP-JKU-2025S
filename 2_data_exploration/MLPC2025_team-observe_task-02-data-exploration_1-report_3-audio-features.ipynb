{
 "cells": [
  {
   "metadata": {},
   "cell_type": "code",
   "outputs": [],
   "execution_count": null,
   "source": "",
   "id": "586e259f7002cad3"
  },
  {
   "metadata": {},
   "cell_type": "code",
   "outputs": [],
   "execution_count": null,
   "source": "",
   "id": "a865588c6a245925"
  }
 ],
 "metadata": {},
 "nbformat": 5,
 "nbformat_minor": 9
}
