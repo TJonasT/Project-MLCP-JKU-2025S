{
 "cells": [
  {
   "cell_type": "code",
   "id": "initial_id",
   "metadata": {
    "collapsed": true,
    "ExecuteTime": {
     "end_time": "2025-04-21T14:36:01.343030Z",
     "start_time": "2025-04-21T14:36:01.338334Z"
    }
   },
   "source": [
    "import numpy as np\n",
    "import pandas as pd\n",
    "from IPython.display import Audio\n",
    "from scipy.sparse.csgraph import connected_components\n",
    "from scipy.sparse import csr_matrix\n",
    "import matplotlib.pyplot as plt"
   ],
   "outputs": [],
   "execution_count": 19
  },
  {
   "metadata": {
    "ExecuteTime": {
     "end_time": "2025-04-21T14:36:01.409526Z",
     "start_time": "2025-04-21T14:36:01.406162Z"
    }
   },
   "cell_type": "code",
   "source": [
    "# Path to the .npz file\n",
    "dataset_path = \"../../MLPC2025_dataset\"\n",
    "\n",
    "annotations_path = dataset_path + \"/annotations.csv\"\n",
    "annotations_text_embeddings_path = dataset_path + \"/annotations_text_embeddings.npz\"\n",
    "\n",
    "metadata_path = dataset_path + \"/metadata.csv\"\n",
    "metadata_title_embeddings_path = dataset_path + \"/metadata_title_embeddings.npz\"\n",
    "metadata_keywords_embeddings_path = dataset_path + \"/metadata_keywords_embeddings.npz\"\n",
    "\n",
    "audio_paths = dataset_path + \"/audio\"\n",
    "audio_features_paths = dataset_path + \"/audio_features\""
   ],
   "id": "6c0431f14c6ff38b",
   "outputs": [],
   "execution_count": 20
  },
  {
   "metadata": {
    "ExecuteTime": {
     "end_time": "2025-04-21T14:36:01.517312Z",
     "start_time": "2025-04-21T14:36:01.446510Z"
    }
   },
   "cell_type": "code",
   "source": [
    "annotations = pd.read_csv(annotations_path)\n",
    "annotations['original_index'] = annotations.index\n",
    "annotations.head()"
   ],
   "id": "2eadf99a822dc0bd",
   "outputs": [
    {
     "data": {
      "text/plain": [
       "     task_id    filename                                          annotator  \\\n",
       "0  161977861  560761.mp3  5945971035380930099053858595454362549806990533...   \n",
       "1  161987165  240538.mp3  4916274343929406460752597829190197300566135449...   \n",
       "2  161989998  660337.mp3  8960534646813062318784592632173589349806817458...   \n",
       "3  161978339  725686.mp3  4540509031938851510799116530500792274849113758...   \n",
       "4  161985729   97606.mp3  1085174475307080254018414698413953957857995126...   \n",
       "\n",
       "                                                text      onset     offset  \\\n",
       "0   bird twitters nearby with a high pitch two times  16.552368  17.271435   \n",
       "1                     A cow bell clinging repeatedly  12.265866  15.420303   \n",
       "2          A child speaks with a high-pitched voice   12.493984  13.315680   \n",
       "3             A high pitch meowing coming from a cat  16.018221  16.991704   \n",
       "4  An extremely loud brushing sound on a construc...   0.000000   1.626352   \n",
       "\n",
       "                              filename_unsafe  original_index  \n",
       "0          560761_tufted titmouse calling.mp3               0  \n",
       "1   240538_AMB - Cowbell stable Stereowav.mp3               1  \n",
       "2  660337_Aeroplane Takeoff From Cabinwav.mp3               2  \n",
       "3                725686_Black Cat Talking.mp3               3  \n",
       "4            97606_jackhammer med distwav.mp3               4  "
      ],
      "text/html": [
       "<div>\n",
       "<style scoped>\n",
       "    .dataframe tbody tr th:only-of-type {\n",
       "        vertical-align: middle;\n",
       "    }\n",
       "\n",
       "    .dataframe tbody tr th {\n",
       "        vertical-align: top;\n",
       "    }\n",
       "\n",
       "    .dataframe thead th {\n",
       "        text-align: right;\n",
       "    }\n",
       "</style>\n",
       "<table border=\"1\" class=\"dataframe\">\n",
       "  <thead>\n",
       "    <tr style=\"text-align: right;\">\n",
       "      <th></th>\n",
       "      <th>task_id</th>\n",
       "      <th>filename</th>\n",
       "      <th>annotator</th>\n",
       "      <th>text</th>\n",
       "      <th>onset</th>\n",
       "      <th>offset</th>\n",
       "      <th>filename_unsafe</th>\n",
       "      <th>original_index</th>\n",
       "    </tr>\n",
       "  </thead>\n",
       "  <tbody>\n",
       "    <tr>\n",
       "      <th>0</th>\n",
       "      <td>161977861</td>\n",
       "      <td>560761.mp3</td>\n",
       "      <td>5945971035380930099053858595454362549806990533...</td>\n",
       "      <td>bird twitters nearby with a high pitch two times</td>\n",
       "      <td>16.552368</td>\n",
       "      <td>17.271435</td>\n",
       "      <td>560761_tufted titmouse calling.mp3</td>\n",
       "      <td>0</td>\n",
       "    </tr>\n",
       "    <tr>\n",
       "      <th>1</th>\n",
       "      <td>161987165</td>\n",
       "      <td>240538.mp3</td>\n",
       "      <td>4916274343929406460752597829190197300566135449...</td>\n",
       "      <td>A cow bell clinging repeatedly</td>\n",
       "      <td>12.265866</td>\n",
       "      <td>15.420303</td>\n",
       "      <td>240538_AMB - Cowbell stable Stereowav.mp3</td>\n",
       "      <td>1</td>\n",
       "    </tr>\n",
       "    <tr>\n",
       "      <th>2</th>\n",
       "      <td>161989998</td>\n",
       "      <td>660337.mp3</td>\n",
       "      <td>8960534646813062318784592632173589349806817458...</td>\n",
       "      <td>A child speaks with a high-pitched voice</td>\n",
       "      <td>12.493984</td>\n",
       "      <td>13.315680</td>\n",
       "      <td>660337_Aeroplane Takeoff From Cabinwav.mp3</td>\n",
       "      <td>2</td>\n",
       "    </tr>\n",
       "    <tr>\n",
       "      <th>3</th>\n",
       "      <td>161978339</td>\n",
       "      <td>725686.mp3</td>\n",
       "      <td>4540509031938851510799116530500792274849113758...</td>\n",
       "      <td>A high pitch meowing coming from a cat</td>\n",
       "      <td>16.018221</td>\n",
       "      <td>16.991704</td>\n",
       "      <td>725686_Black Cat Talking.mp3</td>\n",
       "      <td>3</td>\n",
       "    </tr>\n",
       "    <tr>\n",
       "      <th>4</th>\n",
       "      <td>161985729</td>\n",
       "      <td>97606.mp3</td>\n",
       "      <td>1085174475307080254018414698413953957857995126...</td>\n",
       "      <td>An extremely loud brushing sound on a construc...</td>\n",
       "      <td>0.000000</td>\n",
       "      <td>1.626352</td>\n",
       "      <td>97606_jackhammer med distwav.mp3</td>\n",
       "      <td>4</td>\n",
       "    </tr>\n",
       "  </tbody>\n",
       "</table>\n",
       "</div>"
      ]
     },
     "execution_count": 21,
     "metadata": {},
     "output_type": "execute_result"
    }
   ],
   "execution_count": 21
  },
  {
   "metadata": {
    "ExecuteTime": {
     "end_time": "2025-04-21T14:36:01.723158Z",
     "start_time": "2025-04-21T14:36:01.640726Z"
    }
   },
   "cell_type": "code",
   "source": [
    "metadata = pd.read_csv(metadata_path)\n",
    "metadata.head()"
   ],
   "id": "78e9137d94de8525",
   "outputs": [
    {
     "data": {
      "text/plain": [
       "     filename                                           keywords  \\\n",
       "0  617030.mp3  atmosphere, general-noise, suburban, ambiance,...   \n",
       "1  637408.mp3                jackhammer, construction, reflected   \n",
       "2  615545.mp3  river-side, field-recording, bell, fields, vil...   \n",
       "3  410867.mp3  sports-crowd, applause, crowd, crowd-cheer, Ad...   \n",
       "4   65916.mp3  bones, breaking, broken, chime, clatter, explo...   \n",
       "\n",
       "   freesound_id                                         sound_link  \\\n",
       "0        617030  https://freesound.org/people/klankbeeld/sounds...   \n",
       "1        637408  https://freesound.org/people/kyles/sounds/637408/   \n",
       "2        615545  https://freesound.org/people/klankbeeld/sounds...   \n",
       "3        410867  https://freesound.org/people/NobodyYouKnowOf/s...   \n",
       "4         65916  https://freesound.org/people/BristolStories/so...   \n",
       "\n",
       "      manufacturer                                            license  \\\n",
       "0       klankbeeld       https://creativecommons.org/licenses/by/4.0/   \n",
       "1            kyles  http://creativecommons.org/publicdomain/zero/1.0/   \n",
       "2       klankbeeld       https://creativecommons.org/licenses/by/4.0/   \n",
       "3  NobodyYouKnowOf  http://creativecommons.org/publicdomain/zero/1.0/   \n",
       "4   BristolStories     http://creativecommons.org/licenses/by-nc/3.0/   \n",
       "\n",
       "                                            title  \\\n",
       "0          suburb night NL 1041PM 210415_0279.wav   \n",
       "1         construction jackhammer reflected5.flac   \n",
       "2  4 church-bells 7AM at river NL 210718_0304.wav   \n",
       "3                     crowd_the_hill_language.wav   \n",
       "4                               shells-tinkle.WAV   \n",
       "\n",
       "                                         description  num_downloads  \\\n",
       "0  Night in a suburban city.  All sounds far. Tra...             65   \n",
       "1  construction jackhammer reflected5\\n\\nrecorded...             23   \n",
       "2  Four differed church bells tell it is 7 o’cloc...            227   \n",
       "3  Crowd making some noise at a SANFL Aussie rule...            308   \n",
       "4  This is a shells wind chime. I used it for the...           7721   \n",
       "\n",
       "                         geotag  start_time_s  end_time_s  \n",
       "0   51.7090740261 5.30657821347          15.6      43.535  \n",
       "1                           NaN         209.8     232.356  \n",
       "2   51.7405127581 5.23133654974           6.0      31.666  \n",
       "3  -34.9157073897 138.596134186          19.8      48.569  \n",
       "4                           NaN          23.6      40.797  "
      ],
      "text/html": [
       "<div>\n",
       "<style scoped>\n",
       "    .dataframe tbody tr th:only-of-type {\n",
       "        vertical-align: middle;\n",
       "    }\n",
       "\n",
       "    .dataframe tbody tr th {\n",
       "        vertical-align: top;\n",
       "    }\n",
       "\n",
       "    .dataframe thead th {\n",
       "        text-align: right;\n",
       "    }\n",
       "</style>\n",
       "<table border=\"1\" class=\"dataframe\">\n",
       "  <thead>\n",
       "    <tr style=\"text-align: right;\">\n",
       "      <th></th>\n",
       "      <th>filename</th>\n",
       "      <th>keywords</th>\n",
       "      <th>freesound_id</th>\n",
       "      <th>sound_link</th>\n",
       "      <th>manufacturer</th>\n",
       "      <th>license</th>\n",
       "      <th>title</th>\n",
       "      <th>description</th>\n",
       "      <th>num_downloads</th>\n",
       "      <th>geotag</th>\n",
       "      <th>start_time_s</th>\n",
       "      <th>end_time_s</th>\n",
       "    </tr>\n",
       "  </thead>\n",
       "  <tbody>\n",
       "    <tr>\n",
       "      <th>0</th>\n",
       "      <td>617030.mp3</td>\n",
       "      <td>atmosphere, general-noise, suburban, ambiance,...</td>\n",
       "      <td>617030</td>\n",
       "      <td>https://freesound.org/people/klankbeeld/sounds...</td>\n",
       "      <td>klankbeeld</td>\n",
       "      <td>https://creativecommons.org/licenses/by/4.0/</td>\n",
       "      <td>suburb night NL 1041PM 210415_0279.wav</td>\n",
       "      <td>Night in a suburban city.  All sounds far. Tra...</td>\n",
       "      <td>65</td>\n",
       "      <td>51.7090740261 5.30657821347</td>\n",
       "      <td>15.6</td>\n",
       "      <td>43.535</td>\n",
       "    </tr>\n",
       "    <tr>\n",
       "      <th>1</th>\n",
       "      <td>637408.mp3</td>\n",
       "      <td>jackhammer, construction, reflected</td>\n",
       "      <td>637408</td>\n",
       "      <td>https://freesound.org/people/kyles/sounds/637408/</td>\n",
       "      <td>kyles</td>\n",
       "      <td>http://creativecommons.org/publicdomain/zero/1.0/</td>\n",
       "      <td>construction jackhammer reflected5.flac</td>\n",
       "      <td>construction jackhammer reflected5\\n\\nrecorded...</td>\n",
       "      <td>23</td>\n",
       "      <td>NaN</td>\n",
       "      <td>209.8</td>\n",
       "      <td>232.356</td>\n",
       "    </tr>\n",
       "    <tr>\n",
       "      <th>2</th>\n",
       "      <td>615545.mp3</td>\n",
       "      <td>river-side, field-recording, bell, fields, vil...</td>\n",
       "      <td>615545</td>\n",
       "      <td>https://freesound.org/people/klankbeeld/sounds...</td>\n",
       "      <td>klankbeeld</td>\n",
       "      <td>https://creativecommons.org/licenses/by/4.0/</td>\n",
       "      <td>4 church-bells 7AM at river NL 210718_0304.wav</td>\n",
       "      <td>Four differed church bells tell it is 7 o’cloc...</td>\n",
       "      <td>227</td>\n",
       "      <td>51.7405127581 5.23133654974</td>\n",
       "      <td>6.0</td>\n",
       "      <td>31.666</td>\n",
       "    </tr>\n",
       "    <tr>\n",
       "      <th>3</th>\n",
       "      <td>410867.mp3</td>\n",
       "      <td>sports-crowd, applause, crowd, crowd-cheer, Ad...</td>\n",
       "      <td>410867</td>\n",
       "      <td>https://freesound.org/people/NobodyYouKnowOf/s...</td>\n",
       "      <td>NobodyYouKnowOf</td>\n",
       "      <td>http://creativecommons.org/publicdomain/zero/1.0/</td>\n",
       "      <td>crowd_the_hill_language.wav</td>\n",
       "      <td>Crowd making some noise at a SANFL Aussie rule...</td>\n",
       "      <td>308</td>\n",
       "      <td>-34.9157073897 138.596134186</td>\n",
       "      <td>19.8</td>\n",
       "      <td>48.569</td>\n",
       "    </tr>\n",
       "    <tr>\n",
       "      <th>4</th>\n",
       "      <td>65916.mp3</td>\n",
       "      <td>bones, breaking, broken, chime, clatter, explo...</td>\n",
       "      <td>65916</td>\n",
       "      <td>https://freesound.org/people/BristolStories/so...</td>\n",
       "      <td>BristolStories</td>\n",
       "      <td>http://creativecommons.org/licenses/by-nc/3.0/</td>\n",
       "      <td>shells-tinkle.WAV</td>\n",
       "      <td>This is a shells wind chime. I used it for the...</td>\n",
       "      <td>7721</td>\n",
       "      <td>NaN</td>\n",
       "      <td>23.6</td>\n",
       "      <td>40.797</td>\n",
       "    </tr>\n",
       "  </tbody>\n",
       "</table>\n",
       "</div>"
      ]
     },
     "execution_count": 22,
     "metadata": {},
     "output_type": "execute_result"
    }
   ],
   "execution_count": 22
  },
  {
   "metadata": {
    "ExecuteTime": {
     "end_time": "2025-04-21T14:36:01.837648Z",
     "start_time": "2025-04-21T14:36:01.773294Z"
    }
   },
   "cell_type": "code",
   "source": [
    "metadata_title_embeddings = np.load(metadata_title_embeddings_path)['embeddings']\n",
    "metadata_keywords_embeddings = np.load(metadata_keywords_embeddings_path)['embeddings']"
   ],
   "id": "5277a65f4a62accd",
   "outputs": [],
   "execution_count": 23
  },
  {
   "metadata": {
    "ExecuteTime": {
     "end_time": "2025-04-21T14:36:02.016942Z",
     "start_time": "2025-04-21T14:36:01.910458Z"
    }
   },
   "cell_type": "code",
   "source": "annotations_text_embeddings = np.load(annotations_text_embeddings_path)['embeddings']",
   "id": "7d827b0283fe665e",
   "outputs": [],
   "execution_count": 24
  },
  {
   "metadata": {
    "ExecuteTime": {
     "end_time": "2025-04-21T14:36:02.071396Z",
     "start_time": "2025-04-21T14:36:02.068297Z"
    }
   },
   "cell_type": "code",
   "source": "embedding_dim = annotations_text_embeddings.shape[1]",
   "id": "2d9dd433c3d29855",
   "outputs": [],
   "execution_count": 25
  },
  {
   "metadata": {},
   "cell_type": "markdown",
   "source": "(a) How many annotations did we collect per file? How many distinct sound events per file?",
   "id": "98479bacf02ca414"
  },
  {
   "metadata": {
    "ExecuteTime": {
     "end_time": "2025-04-21T14:36:19.528333Z",
     "start_time": "2025-04-21T14:36:02.113558Z"
    }
   },
   "cell_type": "code",
   "source": [
    "n_annotations_per_file = {}\n",
    "\n",
    "for filename in annotations['filename'].unique():\n",
    "    n_annotations_per_file[filename] = len(annotations[annotations['filename'] == filename])\n"
   ],
   "id": "63e6f0cd4a49d24a",
   "outputs": [],
   "execution_count": 26
  },
  {
   "metadata": {
    "ExecuteTime": {
     "end_time": "2025-04-21T14:37:06.223165Z",
     "start_time": "2025-04-21T14:36:19.556544Z"
    }
   },
   "cell_type": "code",
   "source": [
    "n_distinct_sound_events_per_file = {}\n",
    "\n",
    "for filename in annotations['filename'].unique():\n",
    "\n",
    "    n_distinct_sound_events_estimate = 0\n",
    "\n",
    "    file_annotations = annotations[annotations['filename'] == filename]\n",
    "    file_annotations_grouped_by_annotator = file_annotations.groupby('annotator').agg(lambda x: list(x)).reset_index()\n",
    "\n",
    "    annotators = file_annotations_grouped_by_annotator['annotator'].unique()\n",
    "\n",
    "    for annotator in annotators:\n",
    "        annotations_indices = file_annotations_grouped_by_annotator[file_annotations_grouped_by_annotator['annotator'] == annotator]['original_index'].values[0]\n",
    "\n",
    "        annotations_embeddings = np.zeros((len(annotations_indices), embedding_dim))\n",
    "        for i, index in enumerate(annotations_indices):\n",
    "            annotations_embeddings[i] = annotations_text_embeddings[index]\n",
    "        pairwise_similarities = np.dot(annotations_embeddings, annotations_embeddings.T)\n",
    "        pairwise_similarities = np.tril(pairwise_similarities, k=-1)\n",
    "        pairwise_similarities[pairwise_similarities < 0.9] = 0\n",
    "        pairwise_similarities[pairwise_similarities >= 0.9] = 1\n",
    "\n",
    "        graph = csr_matrix(pairwise_similarities)\n",
    "        n_distinct_sound_events_estimate, labels = connected_components(csgraph=graph, directed=False)\n",
    "\n",
    "    n_distinct_sound_events_estimate /= len(annotators)\n",
    "    if n_distinct_sound_events_estimate < 1:\n",
    "        n_distinct_sound_events_estimate = 1\n",
    "\n",
    "    n_distinct_sound_events_per_file[filename] = n_distinct_sound_events_estimate"
   ],
   "id": "5a725f88ee53a615",
   "outputs": [],
   "execution_count": 27
  },
  {
   "metadata": {
    "ExecuteTime": {
     "end_time": "2025-04-21T14:37:06.282372Z",
     "start_time": "2025-04-21T14:37:06.278858Z"
    }
   },
   "cell_type": "code",
   "source": [
    "print(len(n_annotations_per_file))\n",
    "print(len(n_distinct_sound_events_per_file))"
   ],
   "id": "e6ff9fee5b592a68",
   "outputs": [
    {
     "name": "stdout",
     "output_type": "stream",
     "text": [
      "9026\n",
      "9026\n"
     ]
    }
   ],
   "execution_count": 28
  },
  {
   "metadata": {
    "ExecuteTime": {
     "end_time": "2025-04-21T14:37:06.406780Z",
     "start_time": "2025-04-21T14:37:06.290388Z"
    }
   },
   "cell_type": "code",
   "source": [
    "n_annotations_per_file_values = n_annotations_per_file.values()\n",
    "max_annotations_per_file = max(n_annotations_per_file_values)\n",
    "print(max_annotations_per_file)\n",
    "plt.hist(n_annotations_per_file_values, bins=max_annotations_per_file)\n",
    "plt.show()"
   ],
   "id": "ae7d23ed1b438761",
   "outputs": [
    {
     "name": "stdout",
     "output_type": "stream",
     "text": [
      "96\n"
     ]
    },
    {
     "data": {
      "text/plain": [
       "<Figure size 640x480 with 1 Axes>"
      ],
      "image/png": "[encoded data removed]"
     },
     "metadata": {},
     "output_type": "display_data"
    }
   ],
   "execution_count": 29
  },
  {
   "metadata": {
    "ExecuteTime": {
     "end_time": "2025-04-21T14:37:06.524084Z",
     "start_time": "2025-04-21T14:37:06.436235Z"
    }
   },
   "cell_type": "code",
   "source": [
    "n_distinct_sound_events_per_file_values = list(n_distinct_sound_events_per_file.values())\n",
    "n_distinct_sound_events_per_file_values = [round(x) for x in n_distinct_sound_events_per_file_values]\n",
    "max_distinct_sound_events_per_file = max(n_distinct_sound_events_per_file_values)\n",
    "print(max_distinct_sound_events_per_file)\n",
    "plt.hist(n_distinct_sound_events_per_file_values, bins=max_distinct_sound_events_per_file)\n",
    "plt.show()\n"
   ],
   "id": "b74ca6915003204",
   "outputs": [
    {
     "name": "stdout",
     "output_type": "stream",
     "text": [
      "21\n"
     ]
    },
    {
     "data": {
      "text/plain": [
       "<Figure size 640x480 with 1 Axes>"
      ],
      "image/png": "[encoded data removed]"
     },
     "metadata": {},
     "output_type": "display_data"
    }
   ],
   "execution_count": 30
  },
  {
   "metadata": {
    "ExecuteTime": {
     "end_time": "2025-04-21T14:37:06.552965Z",
     "start_time": "2025-04-21T14:37:06.550966Z"
    }
   },
   "cell_type": "code",
   "source": "",
   "id": "469660ceeb5eaad0",
   "outputs": [],
   "execution_count": null
  },
  {
   "metadata": {},
   "cell_type": "markdown",
   "source": [
    "(b) How detailed are the text annotations? How much does the quality of annotations vary between\n",
    "different annotators?"
   ],
   "id": "65365b00b9a36844"
  },
  {
   "metadata": {
    "ExecuteTime": {
     "end_time": "2025-04-21T14:37:06.708486Z",
     "start_time": "2025-04-21T14:37:06.613821Z"
    }
   },
   "cell_type": "code",
   "source": [
    "#import language_tool_python\n",
    "#tool = language_tool_python.LanguageTool('en-US')\n",
    "from spellchecker import SpellChecker\n",
    "spell = SpellChecker()\n",
    "\n",
    "def calculate_ttr(text):\n",
    "\n",
    "    tokens = text.split()\n",
    "    unique_words = set(tokens)\n",
    "\n",
    "    ttr = len(unique_words) / len(tokens) if tokens else 0\n",
    "    return ttr\n"
   ],
   "id": "761c34f6c59d33fc",
   "outputs": [],
   "execution_count": 31
  },
  {
   "metadata": {
    "ExecuteTime": {
     "end_time": "2025-04-21T14:37:07.242922Z",
     "start_time": "2025-04-21T14:37:06.713059Z"
    }
   },
   "cell_type": "code",
   "source": [
    "annotator_qualities = {}\n",
    "\n",
    "annotations_grouped_by_annotator = annotations.groupby('annotator').agg(lambda x: list(x)).reset_index()\n",
    "n_an = 0\n",
    "for annotator in annotations_grouped_by_annotator['annotator'].unique():\n",
    "    annotator_qualities[annotator] = {'ttr': None, 'errors': None}\n",
    "\n",
    "    annotator_annotations = annotations_grouped_by_annotator[annotations_grouped_by_annotator['annotator'] == annotator]\n",
    "\n",
    "    ttr_values = []\n",
    "    errors = []\n",
    "    n_words = []\n",
    "\n",
    "    for texts in annotator_annotations['text'].values:\n",
    "        for text in texts:\n",
    "            n_an+=1\n",
    "            ttr = calculate_ttr(text)\n",
    "            ttr_values.append(ttr)\n",
    "\n",
    "            misspelled = spell.unknown(text.split())\n",
    "            errors.append(len(misspelled))\n",
    "\n",
    "            n_words.append(len(text.split()))\n",
    "\n",
    "    annotator_qualities[annotator]['ttr'] = np.array(ttr_values)\n",
    "    annotator_qualities[annotator]['errors'] = np.array(errors)\n",
    "    annotator_qualities[annotator]['n_words'] = np.array(n_words)\n",
    "\n",
    "print(n_an)\n"
   ],
   "id": "164a2e64ff1444d0",
   "outputs": [
    {
     "name": "stdout",
     "output_type": "stream",
     "text": [
      "35826\n"
     ]
    }
   ],
   "execution_count": 32
  },
  {
   "metadata": {
    "ExecuteTime": {
     "end_time": "2025-04-21T14:37:07.278087Z",
     "start_time": "2025-04-21T14:37:07.270565Z"
    }
   },
   "cell_type": "code",
   "source": [
    "avg_ttrs = []\n",
    "avg_errors = []\n",
    "avg_n_words = []\n",
    "for annotator, qualities in annotator_qualities.items():\n",
    "    ttr = qualities['ttr']\n",
    "    errors = qualities['errors']\n",
    "    n_words = qualities['n_words']\n",
    "\n",
    "    avg_ttr = np.average(ttr)\n",
    "    avg_error = np.average(errors)\n",
    "    avg_n_word = np.average(n_words)\n",
    "\n",
    "    annotator_qualities[annotator]['avg_ttr'] = avg_ttr\n",
    "    avg_ttrs.append(avg_ttr)\n",
    "    annotator_qualities[annotator]['avg_errors'] = avg_error\n",
    "    avg_errors.append(avg_error)\n",
    "    annotator_qualities[annotator]['avg_n_words'] = avg_n_word\n",
    "    avg_n_words.append(avg_n_word)"
   ],
   "id": "5a83e2f243836ffe",
   "outputs": [],
   "execution_count": 33
  },
  {
   "metadata": {
    "ExecuteTime": {
     "end_time": "2025-04-21T14:37:07.366779Z",
     "start_time": "2025-04-21T14:37:07.308518Z"
    }
   },
   "cell_type": "code",
   "source": [
    "plt.hist(avg_ttrs)\n",
    "plt.show()"
   ],
   "id": "1da70db89929fab2",
   "outputs": [
    {
     "data": {
      "text/plain": [
       "<Figure size 640x480 with 1 Axes>"
      ],
      "image/png": "[encoded data removed]"
     },
     "metadata": {},
     "output_type": "display_data"
    }
   ],
   "execution_count": 34
  },
  {
   "metadata": {
    "ExecuteTime": {
     "end_time": "2025-04-21T14:54:59.082756Z",
     "start_time": "2025-04-21T14:54:59.032889Z"
    }
   },
   "cell_type": "code",
   "source": [
    "plt.hist(avg_errors, bins=4)\n",
    "plt.show()"
   ],
   "id": "d0d8beafacabc898",
   "outputs": [
    {
     "data": {
      "text/plain": [
       "<Figure size 640x480 with 1 Axes>"
      ],
      "image/png": "[encoded data removed]"
     },
     "metadata": {},
     "output_type": "display_data"
    }
   ],
   "execution_count": 40
  },
  {
   "metadata": {
    "ExecuteTime": {
     "end_time": "2025-04-21T14:37:07.522561Z",
     "start_time": "2025-04-21T14:37:07.468327Z"
    }
   },
   "cell_type": "code",
   "source": [
    "plt.hist(avg_n_words)\n",
    "plt.show()"
   ],
   "id": "77380d697422a311",
   "outputs": [
    {
     "data": {
      "text/plain": [
       "<Figure size 640x480 with 1 Axes>"
      ],
      "image/png": "[encoded data removed]"
     },
     "metadata": {},
     "output_type": "display_data"
    }
   ],
   "execution_count": 36
  },
  {
   "metadata": {
    "ExecuteTime": {
     "end_time": "2025-04-21T14:37:07.551968Z",
     "start_time": "2025-04-21T14:37:07.549553Z"
    }
   },
   "cell_type": "code",
   "source": "",
   "id": "541e6368e9fc9131",
   "outputs": [],
   "execution_count": null
  }
 ],
 "metadata": {
  "kernelspec": {
   "display_name": "Python 3",
   "language": "python",
   "name": "python3"
  },
  "language_info": {
   "codemirror_mode": {
    "name": "ipython",
    "version": 2
   },
   "file_extension": ".py",
   "mimetype": "text/x-python",
   "name": "python",
   "nbconvert_exporter": "python",
   "pygments_lexer": "ipython2",
   "version": "2.7.6"
  }
 },
 "nbformat": 4,
 "nbformat_minor": 5
}
